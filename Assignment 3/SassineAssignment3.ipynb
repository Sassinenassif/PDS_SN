{
 "cells": [
  {
   "cell_type": "markdown",
   "metadata": {},
   "source": [
    "## Object Oriented programming\n",
    "### Hands on\n",
    "\n",
    "Let's design a course registration system, where the requirements will be:\n",
    "\n",
    "1. Create a **Course** class, where each course has a name, a description and a list of enrolled students. You'll need to implement the next methods:\n",
    "    - Add a student to the course.\n",
    "    - Remove a student from the course.\n",
    "    - Show all students in the course."
   ]
  },
  {
   "cell_type": "code",
   "execution_count": 177,
   "metadata": {},
   "outputs": [],
   "source": [
    "class Course:\n",
    "    def __init__ (self,course_name,course_description):\n",
    "        self.enrolled_students = []\n",
    "        self.course_name = course_name\n",
    "        self.course_description = course_description\n",
    "    def add_student(self,student) :\n",
    "        self.enrolled_students.append(student)\n",
    "        print (f'{student} has been added to {self.course_name} course')\n",
    "    def remove_student(self,student) :\n",
    "        self.enrolled_students.remove(student)\n",
    "        print(f'{student} has been removed from {self.course_name} course')\n",
    "    def show_allstudents (self):\n",
    "        print (f'The list of students enrolled in {self.course_name} course:')\n",
    "        for name in self.enrolled_students:\n",
    "            print(name) \n",
    "                \n",
    "                \n",
    "                \n",
    "                \n"
   ]
  },
  {
   "cell_type": "code",
   "execution_count": 178,
   "metadata": {},
   "outputs": [
    {
     "name": "stdout",
     "output_type": "stream",
     "text": [
      "Sassine has been added to Python course\n",
      "Kendal has been added to Python course\n",
      "Kendal has been removed from Python course\n",
      "The list of students enrolled in Python course:\n",
      "Sassine\n"
     ]
    }
   ],
   "source": [
    "course = Course('Python','Intro to python')\n",
    "\n",
    "course.add_student('Sassine')\n",
    "course.add_student('Kendal')\n",
    "course.remove_student('Kendal')\n",
    "course.show_allstudents()"
   ]
  },
  {
   "cell_type": "markdown",
   "metadata": {},
   "source": [
    "## Object Oriented programming\n",
    "### Hands on\n",
    "\n",
    "2. Create a **Student** class, where each student has a name, ID number, address and a list of enrolled courses with the following methods:\n",
    "    - Enroll in a course.\n",
    "    - Drop a course.\n",
    "    - Show all registered student courses."
   ]
  },
  {
   "cell_type": "code",
   "execution_count": 179,
   "metadata": {},
   "outputs": [],
   "source": [
    "class Student:\n",
    "    def __init__ (self,student_name,student_id,student_address):\n",
    "        self.student_name = student_name\n",
    "        self.student_id = student_id\n",
    "        self.student_address = student_address\n",
    "        self.student_enrolledclasses = []\n",
    "    def student_enroll (self,course_name):\n",
    "        self.student_enrolledclasses.append(course_name)\n",
    "        print(f'{self.student_name} has been enrolled in {course_name}')\n",
    "    def student_drop (self,course_name):\n",
    "        self.student_enrolledclasses.remove(course_name)\n",
    "        print(f'{self.student_name} has been removed from {course_name}')\n",
    "    def show_studentcourses (self):\n",
    "        print (f'{self.student_name} is enrolled in these courses:')\n",
    "        for course in self.student_enrolledclasses:\n",
    "            print(course)\n",
    "            \n",
    "\n",
    "    "
   ]
  },
  {
   "cell_type": "code",
   "execution_count": 180,
   "metadata": {},
   "outputs": [
    {
     "name": "stdout",
     "output_type": "stream",
     "text": [
      "Gabriel has been enrolled in Python\n",
      "Gabriel has been enrolled in Artificial Intelligence\n",
      "Gabriel has been enrolled in Business in Society\n",
      "Gabriel has been removed from Business in Society\n",
      "Gabriel is enrolled in these courses:\n",
      "Python\n",
      "Artificial Intelligence\n"
     ]
    }
   ],
   "source": [
    "student = Student('Gabriel','15000','Barcelona')\n",
    "student.student_enroll('Python')\n",
    "student.student_enroll('Artificial Intelligence')\n",
    "student.student_enroll('Business in Society')\n",
    "student.student_drop('Business in Society')\n",
    "student.show_studentcourses()"
   ]
  },
  {
   "cell_type": "markdown",
   "metadata": {},
   "source": [
    "## Object Oriented programming\n",
    "### Hands on\n",
    "\n",
    "3. Create a central class that manages courses and students, **Registration** class, where you have a list of students and a list of courses, and methods:\n",
    "    - Enroll in a course.\n",
    "    - Drop a course.\n",
    "    - Show all the enrolled courses.\n",
    "    - Show all the students."
   ]
  },
  {
   "cell_type": "code",
   "execution_count": 181,
   "metadata": {},
   "outputs": [],
   "source": [
    "class Registrar:\n",
    "    \n",
    "    def __init__ (self):\n",
    "        self.students = []\n",
    "        self.courses =  [] \n",
    "    \n",
    "    def add_student (self,student):\n",
    "        self.students.append(student)\n",
    "        print (f'{student.student_name} has been added to Student DataBase' )    \n",
    "    \n",
    "    def add_course (self,course):\n",
    "        self.courses.append(course)\n",
    "        print(f'{course.course_name} has been added to Course DataBase')\n",
    "    \n",
    "    def enroll_student (self,student_name,course_name):\n",
    "        self.student_name = student.student_name\n",
    "        self.course_name = course.course_name\n",
    "        student.student_enroll(course_name)\n",
    "        course.add_student(student_name)\n",
    "        student.student_enrolledclasses += student.student_name\n",
    "    \n",
    "    def drop_student(self, student_name,course_name):\n",
    "        self.student_name = student_name\n",
    "        self.course_name = course_name\n",
    "        student.student_drop(course_name)\n",
    "        course.remove_student(student_name)\n",
    "    \n",
    "    def show_enrolled_courses (self):\n",
    "        print('List of enrolled courses:')\n",
    "        for course in self.courses:\n",
    "            print(course.course_name)\n",
    "    \n",
    "    def show_allstudents (self):\n",
    "        print('List of students:')\n",
    "        for student in  self.students:\n",
    "            print (student.student_name)\n",
    "        \n",
    "        \n",
    "\n",
    "        \n",
    "        \n",
    "    "
   ]
  },
  {
   "cell_type": "code",
   "execution_count": 182,
   "metadata": {},
   "outputs": [
    {
     "name": "stdout",
     "output_type": "stream",
     "text": [
      "Gabriel has been added to Student DataBase\n",
      "Sassine has been added to Student DataBase\n",
      "Python has been added to Course DataBase\n",
      "AI has been added to Course DataBase\n",
      "Gabriel has been enrolled in Python\n",
      "Sassine has been added to Python course\n",
      "List of students:\n",
      "Gabriel\n",
      "Sassine\n"
     ]
    }
   ],
   "source": [
    "student1 = Student('Gabriel', '15000', 'Barcelona')\n",
    "student2 = Student('Sassine', '15001', 'Paris')\n",
    "    \n",
    "course1 = Course('Python', 'Intro to Python programming')\n",
    "course2 = Course('AI', 'Introduction to Artificial Intelligence')\n",
    "\n",
    "registration = Registrar()\n",
    "\n",
    "registration.add_student(student1)\n",
    "registration.add_student(student2)\n",
    "\n",
    "registration.add_course(course1)\n",
    "registration.add_course(course2)\n",
    "\n",
    "registration.enroll_student('Sassine','Python')\n",
    "\n",
    "registration.show_allstudents()\n",
    "    \n",
    "    "
   ]
  },
  {
   "cell_type": "markdown",
   "metadata": {},
   "source": [
    "## Object Oriented programming\n",
    "### Howework\n",
    "\n",
    "4. Let's add grades to each student's course and create method that yields the GPA given a student name or ID."
   ]
  },
  {
   "cell_type": "code",
   "execution_count": 183,
   "metadata": {},
   "outputs": [],
   "source": [
    "class Student:\n",
    "    def __init__ (self,student_name,student_id,student_address):\n",
    "        self.student_name = student_name\n",
    "        self.student_id = student_id\n",
    "        self.student_address = student_address\n",
    "        self.student_enrolledclasses = []\n",
    "        self.student_grades={}\n",
    "        \n",
    "    def add_grade (self,course_name,grade):\n",
    "        if course.course_name in student.student_enrolledclasses:\n",
    "            self.student_grades[course_name]= grade\n",
    "            print(f'{self.student_name} grade:{grade}')\n",
    "            \n",
    "    def calculate_gpa (self):\n",
    "        sum = 0\n",
    "        if self.student_grades:\n",
    "            sum = sum(student_grades.values())\n",
    "            gpa = sum/len(student.student_grades)\n",
    "            print(f'GPA of {self.student_name}:{gpa}')\n",
    "            return gpa\n",
    "            \n",
    "                \n",
    "                \n",
    "            \n",
    "            \n",
    "        "
   ]
  },
  {
   "cell_type": "code",
   "execution_count": 184,
   "metadata": {},
   "outputs": [
    {
     "name": "stdout",
     "output_type": "stream",
     "text": [
      "Gabriel has been added to Student DataBase\n",
      "Sassine has been added to Student DataBase\n",
      "Python has been added to Course DataBase\n",
      "AI has been added to Course DataBase\n",
      "Gabriel has been enrolled in Python\n",
      "Gabriel has been added to Python course\n",
      "Gabriel has been enrolled in AI\n",
      "Gabriel has been added to Python course\n"
     ]
    }
   ],
   "source": [
    "student1 = Student('Gabriel', '15000', 'Barcelona')\n",
    "student2 = Student('Sassine', '15001', 'Paris')\n",
    "    \n",
    "course1 = Course('Python', 'Intro to Python programming')\n",
    "course2 = Course('AI', 'Introduction to Artificial Intelligence')\n",
    "\n",
    "registration = Registrar()\n",
    "\n",
    "registration.add_student(student1)\n",
    "registration.add_student(student2)\n",
    "\n",
    "registration.add_course(course1)\n",
    "registration.add_course(course2)\n",
    "\n",
    "registration.enroll_student('Gabriel','Python')\n",
    "\n",
    "registration.enroll_student('Gabriel','AI')"
   ]
  },
  {
   "cell_type": "code",
   "execution_count": 185,
   "metadata": {},
   "outputs": [
    {
     "name": "stdout",
     "output_type": "stream",
     "text": [
      "Gabriel grade:3\n",
      "Gabriel grade:3\n"
     ]
    },
    {
     "ename": "NameError",
     "evalue": "name 'student_grades' is not defined",
     "output_type": "error",
     "traceback": [
      "\u001b[0;31m---------------------------------------------------------------------------\u001b[0m",
      "\u001b[0;31mNameError\u001b[0m                                 Traceback (most recent call last)",
      "Cell \u001b[0;32mIn[185], line 3\u001b[0m\n\u001b[1;32m      1\u001b[0m student1\u001b[38;5;241m.\u001b[39madd_grade(\u001b[38;5;124m'\u001b[39m\u001b[38;5;124mPython\u001b[39m\u001b[38;5;124m'\u001b[39m,\u001b[38;5;241m3\u001b[39m)\n\u001b[1;32m      2\u001b[0m student1\u001b[38;5;241m.\u001b[39madd_grade(\u001b[38;5;124m'\u001b[39m\u001b[38;5;124mAI\u001b[39m\u001b[38;5;124m'\u001b[39m,\u001b[38;5;241m3\u001b[39m)\n\u001b[0;32m----> 3\u001b[0m \u001b[43mstudent1\u001b[49m\u001b[38;5;241;43m.\u001b[39;49m\u001b[43mcalculate_gpa\u001b[49m\u001b[43m(\u001b[49m\u001b[43m)\u001b[49m\n",
      "Cell \u001b[0;32mIn[183], line 17\u001b[0m, in \u001b[0;36mStudent.calculate_gpa\u001b[0;34m(self)\u001b[0m\n\u001b[1;32m     15\u001b[0m \u001b[38;5;28msum\u001b[39m \u001b[38;5;241m=\u001b[39m \u001b[38;5;241m0\u001b[39m\n\u001b[1;32m     16\u001b[0m \u001b[38;5;28;01mif\u001b[39;00m \u001b[38;5;28mself\u001b[39m\u001b[38;5;241m.\u001b[39mstudent_grades:\n\u001b[0;32m---> 17\u001b[0m     \u001b[38;5;28msum\u001b[39m \u001b[38;5;241m=\u001b[39m \u001b[38;5;28msum\u001b[39m(\u001b[43mstudent_grades\u001b[49m\u001b[38;5;241m.\u001b[39mvalues())\n\u001b[1;32m     18\u001b[0m     gpa \u001b[38;5;241m=\u001b[39m \u001b[38;5;28msum\u001b[39m\u001b[38;5;241m/\u001b[39m\u001b[38;5;28mlen\u001b[39m(student\u001b[38;5;241m.\u001b[39mstudent_grades)\n\u001b[1;32m     19\u001b[0m     \u001b[38;5;28mprint\u001b[39m(\u001b[38;5;124mf\u001b[39m\u001b[38;5;124m'\u001b[39m\u001b[38;5;124mGPA of \u001b[39m\u001b[38;5;132;01m{\u001b[39;00m\u001b[38;5;28mself\u001b[39m\u001b[38;5;241m.\u001b[39mstudent_name\u001b[38;5;132;01m}\u001b[39;00m\u001b[38;5;124m:\u001b[39m\u001b[38;5;132;01m{\u001b[39;00mgpa\u001b[38;5;132;01m}\u001b[39;00m\u001b[38;5;124m'\u001b[39m)\n",
      "\u001b[0;31mNameError\u001b[0m: name 'student_grades' is not defined"
     ]
    }
   ],
   "source": [
    "student1.add_grade('Python',3)\n",
    "student1.add_grade('AI',3)\n",
    "student1.calculate_gpa()"
   ]
  },
  {
   "cell_type": "code",
   "execution_count": null,
   "metadata": {},
   "outputs": [],
   "source": []
  }
 ],
 "metadata": {
  "kernelspec": {
   "display_name": "Python 3",
   "language": "python",
   "name": "python3"
  },
  "language_info": {
   "codemirror_mode": {
    "name": "ipython",
    "version": 3
   },
   "file_extension": ".py",
   "mimetype": "text/x-python",
   "name": "python",
   "nbconvert_exporter": "python",
   "pygments_lexer": "ipython3",
   "version": "3.10.15"
  }
 },
 "nbformat": 4,
 "nbformat_minor": 2
}
