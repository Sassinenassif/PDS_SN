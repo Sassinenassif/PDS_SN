{
 "cells": [
  {
   "cell_type": "markdown",
   "metadata": {},
   "source": [
    "#Exercise 1: Print a Greeting\n",
    "    Write a Python program that prints a greeting message, such as \"Hello, Python!\".\n"
   ]
  },
  {
   "cell_type": "code",
   "execution_count": 1,
   "metadata": {},
   "outputs": [
    {
     "name": "stdout",
     "output_type": "stream",
     "text": [
      "Hello Python!\n"
     ]
    }
   ],
   "source": [
    "print ('Hello Python!')"
   ]
  },
  {
   "cell_type": "markdown",
   "metadata": {},
   "source": [
    "#Exercise 2: Basic Arithmetic\n",
    "    Create a program that:\n",
    "    Define two variables, a and b, with numerical values.\n",
    "    Prints their sum, difference, product, and quotient."
   ]
  },
  {
   "cell_type": "code",
   "execution_count": 1,
   "metadata": {},
   "outputs": [
    {
     "name": "stdout",
     "output_type": "stream",
     "text": [
      "\n",
      "           Sum:10\n",
      "           Difference:-2\n",
      "           Product:24\n",
      "           Quotient:0\n"
     ]
    }
   ],
   "source": [
    "a=4\n",
    "b=6\n",
    "sum = a+b\n",
    "difference = a-b\n",
    "product = a*b \n",
    "quotient = a//b\n",
    "print (f'''\n",
    "           Sum:{sum}\n",
    "           Difference:{difference}\n",
    "           Product:{product}\n",
    "           Quotient:{quotient}''')"
   ]
  },
  {
   "cell_type": "markdown",
   "metadata": {},
   "source": [
    "#Exercise 3: String Manipulation\n",
    "    Define a variable name and assign it your name. Write a program that prints a message saying\n",
    "    \"Hello, [name]!\" where [name] is the value of the variable."
   ]
  },
  {
   "cell_type": "code",
   "execution_count": 3,
   "metadata": {},
   "outputs": [
    {
     "name": "stdout",
     "output_type": "stream",
     "text": [
      "Hello, Sassine Nassif\n"
     ]
    }
   ],
   "source": [
    "name = 'Sassine Nassif'\n",
    "\n",
    "print(f'Hello, {name}')"
   ]
  },
  {
   "cell_type": "markdown",
   "metadata": {},
   "source": [
    "#Exercise 4: Lists\n",
    "    Create a list called universities with at least five different university names.\n",
    "    Print the entire list.\n",
    "    Print the first and last university in the list."
   ]
  },
  {
   "cell_type": "code",
   "execution_count": 4,
   "metadata": {},
   "outputs": [
    {
     "name": "stdout",
     "output_type": "stream",
     "text": [
      "['UIC', 'UB', 'ESADE', 'IE', 'MIT']\n",
      "UIC\n",
      "MIT\n"
     ]
    }
   ],
   "source": [
    "universities = ['UIC','UB','ESADE','IE','MIT']\n",
    "\n",
    "print(universities)\n",
    "print(universities[0])\n",
    "print(universities[-1])"
   ]
  },
  {
   "cell_type": "markdown",
   "metadata": {},
   "source": [
    "#Exercise 5: Dictionaries\n",
    "    Create a dictionary called student with keys: name, age, and grade, and assign appropriate values to each key.\n",
    "    Write a program that prints each key-value pair in the dictionary"
   ]
  },
  {
   "cell_type": "code",
   "execution_count": 5,
   "metadata": {},
   "outputs": [
    {
     "name": "stdout",
     "output_type": "stream",
     "text": [
      "{'name': 'Sassine', 'age': 25, 'grade': 'A'}\n"
     ]
    }
   ],
   "source": [
    "student = {'name' :'Sassine','age':25, 'grade':'A'}\n",
    "\n",
    "print(student)"
   ]
  },
  {
   "cell_type": "markdown",
   "metadata": {},
   "source": [
    "#Exercise 6: Tuples\n",
    "    Define a tuple called coordinates with two values representing a point in 2D space (e.g., (x, y)).\n",
    "    Print the value of coordinates and access each element by its index."
   ]
  },
  {
   "cell_type": "code",
   "execution_count": 6,
   "metadata": {},
   "outputs": [
    {
     "name": "stdout",
     "output_type": "stream",
     "text": [
      "Coordinates: (2.0, 3.0)\n",
      "2.0\n",
      "3.0\n"
     ]
    }
   ],
   "source": [
    "coordinates = (2.0,3.0)\n",
    "print('Coordinates:',coordinates)\n",
    "print(coordinates[0])\n",
    "print(coordinates[1])"
   ]
  },
  {
   "cell_type": "markdown",
   "metadata": {},
   "source": [
    "#Exercise 7: Sets\n",
    "    Create a set called colors with the values: \"red\", \"green\", \"blue\".\n",
    "    Add another color to the set.\n",
    "    Try adding a duplicate color and observe what happens.\n",
    "    Print the set and remove one color from it.\n",
    "    Create another set named light_colors and merge colors and light_colors."
   ]
  },
  {
   "cell_type": "code",
   "execution_count": 7,
   "metadata": {},
   "outputs": [
    {
     "name": "stdout",
     "output_type": "stream",
     "text": [
      "{'red', 'blue', 'green', 'purple'}\n",
      "{'blue', 'green', 'purple'}\n",
      "{'purple', 'baby blue', 'blue', 'green', 'light pink'}\n"
     ]
    }
   ],
   "source": [
    "colors = {'red','green','blue'}\n",
    "colors.add('purple')\n",
    "colors.add('red')\n",
    "print(colors)\n",
    "colors.remove('red')\n",
    "print(colors)\n",
    "light_colors = {'baby blue','light pink'}\n",
    "print(colors.union(light_colors))"
   ]
  },
  {
   "cell_type": "markdown",
   "metadata": {},
   "source": [
    "#Exercise 8: Conditional Statements\n",
    "    Write a program that:\n",
    "        Takes an input number from the user.\n",
    "        Checks if the number is positive, negative, or zero.\n",
    "        Prints an appropriate message based on the result."
   ]
  },
  {
   "cell_type": "code",
   "execution_count": 8,
   "metadata": {},
   "outputs": [
    {
     "name": "stdout",
     "output_type": "stream",
     "text": [
      "Number is positive\n"
     ]
    }
   ],
   "source": [
    "a = input('Please type a number:')\n",
    "if int(a)<0:\n",
    "    print ('Number is negative')\n",
    "elif int(a)>0: \n",
    "    print ('Number is positive')\n",
    "else:\n",
    "    print ('Number is Zero')"
   ]
  },
  {
   "cell_type": "markdown",
   "metadata": {},
   "source": [
    "#Exercise 9: For Loop\n",
    "    Create a list of numbers from 1 to 5.\n",
    "    Use a for loop to iterate through the list and print each number."
   ]
  },
  {
   "cell_type": "code",
   "execution_count": 9,
   "metadata": {},
   "outputs": [
    {
     "name": "stdout",
     "output_type": "stream",
     "text": [
      "[1, 2, 3, 4, 5]\n",
      "1\n",
      "2\n",
      "3\n",
      "4\n",
      "5\n"
     ]
    }
   ],
   "source": [
    "numbers = [number for number in range(1,6)]\n",
    "print (numbers)\n",
    "for i in numbers:\n",
    "    print(i)    "
   ]
  },
  {
   "cell_type": "markdown",
   "metadata": {},
   "source": [
    "#Exercise 10: While Loop\n",
    "    Write a program that uses a while loop to print numbers from 1 to 5.\n",
    "    Ensure the loop terminates correctly"
   ]
  },
  {
   "cell_type": "code",
   "execution_count": 10,
   "metadata": {},
   "outputs": [
    {
     "name": "stdout",
     "output_type": "stream",
     "text": [
      "1\n",
      "2\n",
      "3\n",
      "4\n",
      "5\n"
     ]
    }
   ],
   "source": [
    "counter =1 \n",
    "while counter <= 5:\n",
    "    print (counter)\n",
    "    counter += 1"
   ]
  },
  {
   "cell_type": "markdown",
   "metadata": {},
   "source": [
    "#Exercise 11: Match Statement (Python 3.10+)\n",
    "    Write a program that:\n",
    "        Asks the user to input a grade (e.g., \"A\", \"B\", \"C\", \"D\", or \"F\").\n",
    "        Use a match statement to print a corresponding message for each grade:\n",
    "        \"A\": \"Excellent!\"\n",
    "        \"B\": \"Good job!\"\n",
    "        \"C\": \"Fair.\"\n",
    "        \"D\": \"Needs improvement.\"\n",
    "        \"F\": \"Failing.\"\n",
    "    Handle invalid input by printing a default message."
   ]
  },
  {
   "cell_type": "code",
   "execution_count": 11,
   "metadata": {},
   "outputs": [
    {
     "name": "stdout",
     "output_type": "stream",
     "text": [
      "Excellent!\n"
     ]
    }
   ],
   "source": [
    "grade = input('Please enter a grade:')\n",
    "\n",
    "if grade=='A' or grade== 'B' or grade == 'C' or grade == 'D' or grade == 'F' :\n",
    "    match grade:\n",
    "        case 'A':\n",
    "            print ('Excellent!')\n",
    "        case 'B':\n",
    "            print('Good Job!')\n",
    "        case 'C':\n",
    "            print('Fair.')\n",
    "        case 'D':\n",
    "            print('Needs improvement.')\n",
    "        case 'F':\n",
    "            print('Failing.')\n",
    "\n",
    "else: \n",
    "    print ('Invalid grade!')"
   ]
  },
  {
   "cell_type": "markdown",
   "metadata": {},
   "source": [
    "#Exercise 12: Define a Function\n",
    "    Write a function called greet that takes a name as an argument and prints \"Hello, [name]!\".\n",
    "    Call the function with your own name."
   ]
  },
  {
   "cell_type": "code",
   "execution_count": 12,
   "metadata": {},
   "outputs": [
    {
     "name": "stdout",
     "output_type": "stream",
     "text": [
      "Hello,Sassine!\n"
     ]
    }
   ],
   "source": [
    "def greet (name):\n",
    "    print(f'Hello,{name}!')\n",
    "\n",
    "name = 'Sassine'\n",
    "greet(name)"
   ]
  },
  {
   "cell_type": "markdown",
   "metadata": {},
   "source": [
    "#Exercise 13: Function with Return Value\n",
    "    Define a function called square that takes a number as an argument and returns its square.\n",
    "    Print the result of calling this function with different numbers."
   ]
  },
  {
   "cell_type": "code",
   "execution_count": 13,
   "metadata": {},
   "outputs": [
    {
     "name": "stdout",
     "output_type": "stream",
     "text": [
      "25\n",
      "4\n",
      "36\n"
     ]
    }
   ],
   "source": [
    "def square(number):\n",
    "    return number*number\n",
    "\n",
    "print(square(-5))\n",
    "print(square(2))\n",
    "print(square(6))"
   ]
  },
  {
   "cell_type": "markdown",
   "metadata": {},
   "source": [
    "#Exercise 14: Function with Default Parameters\n",
    "    Write a function called multiply that takes two parameters, a and b, and returns their product.\n",
    "    Set a default value of 1 for the parameter b.\n",
    "    Test the function with and without providing the second argument."
   ]
  },
  {
   "cell_type": "code",
   "execution_count": 14,
   "metadata": {},
   "outputs": [
    {
     "name": "stdout",
     "output_type": "stream",
     "text": [
      "3\n"
     ]
    }
   ],
   "source": [
    "b=1\n",
    "def multiply(a,b):\n",
    "    return a*b\n",
    "\n",
    "print(multiply(3,b))"
   ]
  },
  {
   "cell_type": "markdown",
   "metadata": {},
   "source": [
    "#Exercise 15: List Comprehension\n",
    "    Create a list of numbers from 1 to 10.\n",
    "    Use list comprehension to create a new list that contains the squares of these numbers.\n",
    "    Print the new list."
   ]
  },
  {
   "cell_type": "code",
   "execution_count": 15,
   "metadata": {},
   "outputs": [
    {
     "name": "stdout",
     "output_type": "stream",
     "text": [
      "[1, 4, 9, 16, 25, 36, 49, 64, 81, 100]\n"
     ]
    }
   ],
   "source": [
    "list = [ num for num in range(1,11) ]\n",
    "list =[ num*num for num in list ]\n",
    "print(list)"
   ]
  },
  {
   "cell_type": "markdown",
   "metadata": {},
   "source": [
    "#Exercise 16: Nested Data Structures\n",
    "    Create a dictionary where the keys are names of students and the values are lists of their grades.\n",
    "    Write a function that takes the dictionary and prints the average grade for each student."
   ]
  },
  {
   "cell_type": "code",
   "execution_count": 16,
   "metadata": {},
   "outputs": [
    {
     "name": "stdout",
     "output_type": "stream",
     "text": [
      "Sassine : B\n",
      "Julia : C\n",
      "Zein : A\n"
     ]
    }
   ],
   "source": [
    "students_grades = dict()\n",
    "def average_grade (students_grades):\n",
    "    for name,grades in students_grades.items():\n",
    "        grades_value = {'A':4,'B':3,'C':2,'D':1,'F':0}\n",
    "        sum= 0 \n",
    "        for grade in grades:\n",
    "            sum += grades_value[grade]\n",
    "            average = sum/len(grades)\n",
    "            average = round(average)\n",
    "            if average == 0:\n",
    "             average_grade = 'F'\n",
    "            elif average == 1:\n",
    "             average_grade = 'D'\n",
    "            elif average == 2:\n",
    "             average_grade = 'C'\n",
    "            elif average == 3: \n",
    "             average_grade = 'B'\n",
    "            elif average == 4:\n",
    "             average_grade = 'A'\n",
    "        print (f'{name} : {average_grade}')\n",
    "         \n",
    "grades={'Sassine': ['A','B','B','B'], 'Julia':['B','D','C','D'],'Zein':['A','A','A','B']}\n",
    "\n",
    "average_grade(grades)"
   ]
  },
  {
   "cell_type": "markdown",
   "metadata": {},
   "source": [
    "#Exercise 17: Simple Calculator\n",
    "    Write a program that:\n",
    "    Defines a function calculate which takes three parameters: two numbers and an operator (+, -, *, /).\n",
    "    Performs the operation and returns the result.\n",
    "    Ask the user for the two numbers and the operator, then call the function and print the result."
   ]
  },
  {
   "cell_type": "code",
   "execution_count": 17,
   "metadata": {},
   "outputs": [
    {
     "data": {
      "text/plain": [
       "28"
      ]
     },
     "execution_count": 17,
     "metadata": {},
     "output_type": "execute_result"
    }
   ],
   "source": [
    "def calculate (a,b,operator):\n",
    "    if operator == '+':\n",
    "       return  a + b\n",
    "    if operator == '-':\n",
    "        return a - b\n",
    "    if operator == '*':\n",
    "        return a * b \n",
    "    if operator == '/':\n",
    "        return a / b\n",
    "    else:\n",
    "        print('Invalid operator!')\n",
    "\n",
    "\n",
    "\n",
    "a = int(input('Please enter number a:'))\n",
    "b = int(input('Please enter number b:'))\n",
    "operator = input ('Please select an operator (+,-,*,/):')\n",
    "calculate(a,b,operator)"
   ]
  }
 ],
 "metadata": {
  "kernelspec": {
   "display_name": "Python 3",
   "language": "python",
   "name": "python3"
  },
  "language_info": {
   "codemirror_mode": {
    "name": "ipython",
    "version": 3
   },
   "file_extension": ".py",
   "mimetype": "text/x-python",
   "name": "python",
   "nbconvert_exporter": "python",
   "pygments_lexer": "ipython3",
   "version": "3.10.15"
  }
 },
 "nbformat": 4,
 "nbformat_minor": 2
}
