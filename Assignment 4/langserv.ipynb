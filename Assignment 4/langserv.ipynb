{
 "cells": [
  {
   "cell_type": "code",
   "execution_count": null,
   "metadata": {},
   "outputs": [],
   "source": [
    "\"\"\"Web service that accepts a text and returns its language code.\"\"\"\n",
    "\n",
    "from flask import Flask\n",
    "from flask import request\n",
    "import langdetect as ld\n",
    "\n",
    "\n",
    "app = Flask(__name__)\n",
    "\n",
    "\n",
    "@app.route(\"/\")\n",
    "def hello_world():\n",
    "    \"\"\"Returns a description of the web service.\"\"\"\n",
    "    return \"Hello!! This is an app to detect the language of a document\"\n",
    "\n",
    "\n",
    "@app.route(\"/detect\", methods=['GET'])\n",
    "def detect():\n",
    "    \"\"\"Identifies the language of the text.\"\"\"\n",
    "    query = request.args.get('text')\n",
    "    language = ld.detect(query)\n",
    "    return language\n",
    "@app.route('/instance',methods=['GET'])\n",
    "def instance():\n",
    "    dirs = os.listdir('/var/lib/cloud/instances/')\n",
    "    return dirs[0]\n",
    "\n",
    "\n",
    "if __name__ == \"__main__\":\n",
    "    app.run()"
   ]
  }
 ],
 "metadata": {
  "language_info": {
   "name": "python"
  }
 },
 "nbformat": 4,
 "nbformat_minor": 2
}
